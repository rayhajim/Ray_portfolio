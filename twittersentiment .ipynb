{
 "cells": [
  {
   "cell_type": "code",
   "execution_count": 59,
   "metadata": {},
   "outputs": [],
   "source": [
    "import tweepy as tw\n",
    "import pandas as pd\n",
    "import numpy as np\n",
    "import re\n",
    "from textblob import TextBlob\n",
    "from wordcloud import WordCloud\n",
    "import matplotlib.pyplot as plt\n",
    "plt.style.use('fivethirtyeight')"
   ]
  },
  {
   "cell_type": "code",
   "execution_count": 60,
   "metadata": {},
   "outputs": [],
   "source": [
    "Consumer_Key = \"OZSPt2YMbHue3XQ4Y9cFRe9rK\"\n",
    "Consumer_Secret_Key = \"sivoOWqrW3M1YuLvEUrb2rjlfFluTkpK4PQ4cN96sQnWOl1jTm\"\n",
    "Access_Token = \"1316706657552855043-990tzBCPEpyggoOSXxWM3GLekoY1zT\"\n",
    "Access_Token_Secret = \"PcNLCwWhiHXpLIg5hYLb3wZea2bAyQfbkyXcVrgwS4zUx\""
   ]
  },
  {
   "cell_type": "code",
   "execution_count": 61,
   "metadata": {},
   "outputs": [],
   "source": [
    "auth = tw.OAuthHandler(Consumer_Key, Consumer_Secret_Key)\n",
    "auth.set_access_token(Access_Token,Access_Token_Secret)\n",
    "api = tweepy.API(auth, wait_on_rate_limit = True)"
   ]
  },
  {
   "cell_type": "code",
   "execution_count": 62,
   "metadata": {},
   "outputs": [
    {
     "name": "stdout",
     "output_type": "stream",
     "text": [
      "Show the 5 recent tweets: \n",
      "\n",
      "1) THE BIGGEST WINNER OF OUR NEW DEFENSE BILL IS CHINA!. I WILL VETO!\n",
      "\n",
      "2) MOST CORRUPT ELECTION IN U.S. HISTORY!\n",
      "\n",
      "3) How do states and politicians confirm an election where corruption and irregularities are documented throughout? A Swing State hustle!\n",
      "\n",
      "4) The drug companies are going crazy putting up nasty ads against me asking to “withdraw my Favored Nation’s Executive Order”. They don’t want the U.S. to have the lowest drug prices in the world, but we now will. Big reductions coming. No other politician would do this!!!\n",
      "\n",
      "5) If failing Governor @BrianKempGA would allow signature verification, David &amp; Kelly would WIN!\n",
      "\n"
     ]
    }
   ],
   "source": [
    "posts = api.user_timeline(screen_name = \"realDonaldTrump\", count = 100, lang = \"en\", tweet_mode=\"extended\")\n",
    "print(\"Show the 5 recent tweets: \\n\")\n",
    "i = 1\n",
    "for tweet in posts[0:5]:\n",
    "    print(str(i) + ') ' + tweet.full_text + '\\n')\n",
    "    i = i+1"
   ]
  },
  {
   "cell_type": "code",
   "execution_count": 63,
   "metadata": {},
   "outputs": [
    {
     "data": {
      "text/html": [
       "<div>\n",
       "<style scoped>\n",
       "    .dataframe tbody tr th:only-of-type {\n",
       "        vertical-align: middle;\n",
       "    }\n",
       "\n",
       "    .dataframe tbody tr th {\n",
       "        vertical-align: top;\n",
       "    }\n",
       "\n",
       "    .dataframe thead th {\n",
       "        text-align: right;\n",
       "    }\n",
       "</style>\n",
       "<table border=\"1\" class=\"dataframe\">\n",
       "  <thead>\n",
       "    <tr style=\"text-align: right;\">\n",
       "      <th></th>\n",
       "      <th>Tweets</th>\n",
       "    </tr>\n",
       "  </thead>\n",
       "  <tbody>\n",
       "    <tr>\n",
       "      <th>0</th>\n",
       "      <td>THE BIGGEST WINNER OF OUR NEW DEFENSE BILL IS ...</td>\n",
       "    </tr>\n",
       "    <tr>\n",
       "      <th>1</th>\n",
       "      <td>MOST CORRUPT ELECTION IN U.S. HISTORY!</td>\n",
       "    </tr>\n",
       "    <tr>\n",
       "      <th>2</th>\n",
       "      <td>How do states and politicians confirm an elect...</td>\n",
       "    </tr>\n",
       "    <tr>\n",
       "      <th>3</th>\n",
       "      <td>The drug companies are going crazy putting up ...</td>\n",
       "    </tr>\n",
       "    <tr>\n",
       "      <th>4</th>\n",
       "      <td>If failing Governor @BrianKempGA would allow s...</td>\n",
       "    </tr>\n",
       "  </tbody>\n",
       "</table>\n",
       "</div>"
      ],
      "text/plain": [
       "                                              Tweets\n",
       "0  THE BIGGEST WINNER OF OUR NEW DEFENSE BILL IS ...\n",
       "1             MOST CORRUPT ELECTION IN U.S. HISTORY!\n",
       "2  How do states and politicians confirm an elect...\n",
       "3  The drug companies are going crazy putting up ...\n",
       "4  If failing Governor @BrianKempGA would allow s..."
      ]
     },
     "execution_count": 63,
     "metadata": {},
     "output_type": "execute_result"
    }
   ],
   "source": [
    "df = pd.DataFrame([tweet.full_text for tweet in posts] , columns=['Tweets'])\n",
    "df.head()"
   ]
  },
  {
   "cell_type": "code",
   "execution_count": 64,
   "metadata": {},
   "outputs": [
    {
     "data": {
      "text/html": [
       "<div>\n",
       "<style scoped>\n",
       "    .dataframe tbody tr th:only-of-type {\n",
       "        vertical-align: middle;\n",
       "    }\n",
       "\n",
       "    .dataframe tbody tr th {\n",
       "        vertical-align: top;\n",
       "    }\n",
       "\n",
       "    .dataframe thead th {\n",
       "        text-align: right;\n",
       "    }\n",
       "</style>\n",
       "<table border=\"1\" class=\"dataframe\">\n",
       "  <thead>\n",
       "    <tr style=\"text-align: right;\">\n",
       "      <th></th>\n",
       "      <th>Tweets</th>\n",
       "    </tr>\n",
       "  </thead>\n",
       "  <tbody>\n",
       "    <tr>\n",
       "      <th>0</th>\n",
       "      <td>THE BIGGEST WINNER OF OUR NEW DEFENSE BILL IS ...</td>\n",
       "    </tr>\n",
       "    <tr>\n",
       "      <th>1</th>\n",
       "      <td>MOST CORRUPT ELECTION IN U.S. HISTORY!</td>\n",
       "    </tr>\n",
       "    <tr>\n",
       "      <th>2</th>\n",
       "      <td>How do states and politicians confirm an elect...</td>\n",
       "    </tr>\n",
       "    <tr>\n",
       "      <th>3</th>\n",
       "      <td>The drug companies are going crazy putting up ...</td>\n",
       "    </tr>\n",
       "    <tr>\n",
       "      <th>4</th>\n",
       "      <td>If failing Governor  would allow signature ver...</td>\n",
       "    </tr>\n",
       "    <tr>\n",
       "      <th>...</th>\n",
       "      <td>...</td>\n",
       "    </tr>\n",
       "    <tr>\n",
       "      <th>95</th>\n",
       "      <td>This was not my case as has been so incorrectl...</td>\n",
       "    </tr>\n",
       "    <tr>\n",
       "      <th>96</th>\n",
       "      <td>NASDAQ and S&amp;amp;P close at all-time highs. Co...</td>\n",
       "    </tr>\n",
       "    <tr>\n",
       "      <th>97</th>\n",
       "      <td>: Every waking moment is about one purpose: sa...</td>\n",
       "    </tr>\n",
       "    <tr>\n",
       "      <th>98</th>\n",
       "      <td>: \"The plan we put forward prioritizes the eld...</td>\n",
       "    </tr>\n",
       "    <tr>\n",
       "      <th>99</th>\n",
       "      <td>: \"If authorized, tens of millions of vaccine ...</td>\n",
       "    </tr>\n",
       "  </tbody>\n",
       "</table>\n",
       "<p>100 rows × 1 columns</p>\n",
       "</div>"
      ],
      "text/plain": [
       "                                               Tweets\n",
       "0   THE BIGGEST WINNER OF OUR NEW DEFENSE BILL IS ...\n",
       "1              MOST CORRUPT ELECTION IN U.S. HISTORY!\n",
       "2   How do states and politicians confirm an elect...\n",
       "3   The drug companies are going crazy putting up ...\n",
       "4   If failing Governor  would allow signature ver...\n",
       "..                                                ...\n",
       "95  This was not my case as has been so incorrectl...\n",
       "96  NASDAQ and S&amp;P close at all-time highs. Co...\n",
       "97  : Every waking moment is about one purpose: sa...\n",
       "98  : \"The plan we put forward prioritizes the eld...\n",
       "99  : \"If authorized, tens of millions of vaccine ...\n",
       "\n",
       "[100 rows x 1 columns]"
      ]
     },
     "execution_count": 64,
     "metadata": {},
     "output_type": "execute_result"
    }
   ],
   "source": [
    "def cleanTxt(text):\n",
    "    text = re.sub(r'@[A-Za-z0-9]+', '', text)\n",
    "    text = re.sub(r'#', '', text)\n",
    "    text = re.sub(r'RT[\\s]', '', text)\n",
    "    text = re.sub(r'https?:\\/\\/\\S+', '', text)\n",
    "    \n",
    "    return text\n",
    "\n",
    "df['Tweets'] = df['Tweets'].apply(cleanTxt)\n",
    "df"
   ]
  },
  {
   "cell_type": "code",
   "execution_count": 65,
   "metadata": {},
   "outputs": [
    {
     "data": {
      "text/html": [
       "<div>\n",
       "<style scoped>\n",
       "    .dataframe tbody tr th:only-of-type {\n",
       "        vertical-align: middle;\n",
       "    }\n",
       "\n",
       "    .dataframe tbody tr th {\n",
       "        vertical-align: top;\n",
       "    }\n",
       "\n",
       "    .dataframe thead th {\n",
       "        text-align: right;\n",
       "    }\n",
       "</style>\n",
       "<table border=\"1\" class=\"dataframe\">\n",
       "  <thead>\n",
       "    <tr style=\"text-align: right;\">\n",
       "      <th></th>\n",
       "      <th>Tweets</th>\n",
       "      <th>Subjectivity</th>\n",
       "      <th>Polarity</th>\n",
       "    </tr>\n",
       "  </thead>\n",
       "  <tbody>\n",
       "    <tr>\n",
       "      <th>0</th>\n",
       "      <td>THE BIGGEST WINNER OF OUR NEW DEFENSE BILL IS ...</td>\n",
       "      <td>0.454545</td>\n",
       "      <td>0.213068</td>\n",
       "    </tr>\n",
       "    <tr>\n",
       "      <th>1</th>\n",
       "      <td>MOST CORRUPT ELECTION IN U.S. HISTORY!</td>\n",
       "      <td>0.750000</td>\n",
       "      <td>-0.062500</td>\n",
       "    </tr>\n",
       "    <tr>\n",
       "      <th>2</th>\n",
       "      <td>How do states and politicians confirm an elect...</td>\n",
       "      <td>0.000000</td>\n",
       "      <td>0.000000</td>\n",
       "    </tr>\n",
       "    <tr>\n",
       "      <th>3</th>\n",
       "      <td>The drug companies are going crazy putting up ...</td>\n",
       "      <td>0.655000</td>\n",
       "      <td>-0.135586</td>\n",
       "    </tr>\n",
       "    <tr>\n",
       "      <th>4</th>\n",
       "      <td>If failing Governor  would allow signature ver...</td>\n",
       "      <td>0.400000</td>\n",
       "      <td>1.000000</td>\n",
       "    </tr>\n",
       "    <tr>\n",
       "      <th>...</th>\n",
       "      <td>...</td>\n",
       "      <td>...</td>\n",
       "      <td>...</td>\n",
       "    </tr>\n",
       "    <tr>\n",
       "      <th>95</th>\n",
       "      <td>This was not my case as has been so incorrectl...</td>\n",
       "      <td>0.817778</td>\n",
       "      <td>0.187778</td>\n",
       "    </tr>\n",
       "    <tr>\n",
       "      <th>96</th>\n",
       "      <td>NASDAQ and S&amp;amp;P close at all-time highs. Co...</td>\n",
       "      <td>0.000000</td>\n",
       "      <td>0.000000</td>\n",
       "    </tr>\n",
       "    <tr>\n",
       "      <th>97</th>\n",
       "      <td>: Every waking moment is about one purpose: sa...</td>\n",
       "      <td>0.433333</td>\n",
       "      <td>0.366667</td>\n",
       "    </tr>\n",
       "    <tr>\n",
       "      <th>98</th>\n",
       "      <td>: \"The plan we put forward prioritizes the eld...</td>\n",
       "      <td>0.000000</td>\n",
       "      <td>0.000000</td>\n",
       "    </tr>\n",
       "    <tr>\n",
       "      <th>99</th>\n",
       "      <td>: \"If authorized, tens of millions of vaccine ...</td>\n",
       "      <td>0.450000</td>\n",
       "      <td>0.450000</td>\n",
       "    </tr>\n",
       "  </tbody>\n",
       "</table>\n",
       "<p>100 rows × 3 columns</p>\n",
       "</div>"
      ],
      "text/plain": [
       "                                               Tweets  Subjectivity  Polarity\n",
       "0   THE BIGGEST WINNER OF OUR NEW DEFENSE BILL IS ...      0.454545  0.213068\n",
       "1              MOST CORRUPT ELECTION IN U.S. HISTORY!      0.750000 -0.062500\n",
       "2   How do states and politicians confirm an elect...      0.000000  0.000000\n",
       "3   The drug companies are going crazy putting up ...      0.655000 -0.135586\n",
       "4   If failing Governor  would allow signature ver...      0.400000  1.000000\n",
       "..                                                ...           ...       ...\n",
       "95  This was not my case as has been so incorrectl...      0.817778  0.187778\n",
       "96  NASDAQ and S&amp;P close at all-time highs. Co...      0.000000  0.000000\n",
       "97  : Every waking moment is about one purpose: sa...      0.433333  0.366667\n",
       "98  : \"The plan we put forward prioritizes the eld...      0.000000  0.000000\n",
       "99  : \"If authorized, tens of millions of vaccine ...      0.450000  0.450000\n",
       "\n",
       "[100 rows x 3 columns]"
      ]
     },
     "execution_count": 65,
     "metadata": {},
     "output_type": "execute_result"
    }
   ],
   "source": [
    "def getSubjectivity(text):\n",
    "    return TextBlob(text).sentiment.subjectivity\n",
    "\n",
    "def getPolarity(text):\n",
    "    return TextBlob(text).sentiment.polarity\n",
    "\n",
    "df['Subjectivity'] = df['Tweets'].apply(getSubjectivity)\n",
    "df['Polarity'] = df['Tweets'].apply(getPolarity)\n",
    "\n",
    "df"
   ]
  },
  {
   "cell_type": "code",
   "execution_count": 66,
   "metadata": {},
   "outputs": [
    {
     "data": {
      "text/html": [
       "<div>\n",
       "<style scoped>\n",
       "    .dataframe tbody tr th:only-of-type {\n",
       "        vertical-align: middle;\n",
       "    }\n",
       "\n",
       "    .dataframe tbody tr th {\n",
       "        vertical-align: top;\n",
       "    }\n",
       "\n",
       "    .dataframe thead th {\n",
       "        text-align: right;\n",
       "    }\n",
       "</style>\n",
       "<table border=\"1\" class=\"dataframe\">\n",
       "  <thead>\n",
       "    <tr style=\"text-align: right;\">\n",
       "      <th></th>\n",
       "      <th>Tweets</th>\n",
       "      <th>Subjectivity</th>\n",
       "      <th>Polarity</th>\n",
       "      <th>Analysis</th>\n",
       "    </tr>\n",
       "  </thead>\n",
       "  <tbody>\n",
       "    <tr>\n",
       "      <th>0</th>\n",
       "      <td>THE BIGGEST WINNER OF OUR NEW DEFENSE BILL IS ...</td>\n",
       "      <td>0.454545</td>\n",
       "      <td>0.213068</td>\n",
       "      <td>Positive</td>\n",
       "    </tr>\n",
       "    <tr>\n",
       "      <th>1</th>\n",
       "      <td>MOST CORRUPT ELECTION IN U.S. HISTORY!</td>\n",
       "      <td>0.750000</td>\n",
       "      <td>-0.062500</td>\n",
       "      <td>Negative</td>\n",
       "    </tr>\n",
       "    <tr>\n",
       "      <th>2</th>\n",
       "      <td>How do states and politicians confirm an elect...</td>\n",
       "      <td>0.000000</td>\n",
       "      <td>0.000000</td>\n",
       "      <td>Neutral</td>\n",
       "    </tr>\n",
       "    <tr>\n",
       "      <th>3</th>\n",
       "      <td>The drug companies are going crazy putting up ...</td>\n",
       "      <td>0.655000</td>\n",
       "      <td>-0.135586</td>\n",
       "      <td>Negative</td>\n",
       "    </tr>\n",
       "    <tr>\n",
       "      <th>4</th>\n",
       "      <td>If failing Governor  would allow signature ver...</td>\n",
       "      <td>0.400000</td>\n",
       "      <td>1.000000</td>\n",
       "      <td>Positive</td>\n",
       "    </tr>\n",
       "    <tr>\n",
       "      <th>...</th>\n",
       "      <td>...</td>\n",
       "      <td>...</td>\n",
       "      <td>...</td>\n",
       "      <td>...</td>\n",
       "    </tr>\n",
       "    <tr>\n",
       "      <th>95</th>\n",
       "      <td>This was not my case as has been so incorrectl...</td>\n",
       "      <td>0.817778</td>\n",
       "      <td>0.187778</td>\n",
       "      <td>Positive</td>\n",
       "    </tr>\n",
       "    <tr>\n",
       "      <th>96</th>\n",
       "      <td>NASDAQ and S&amp;amp;P close at all-time highs. Co...</td>\n",
       "      <td>0.000000</td>\n",
       "      <td>0.000000</td>\n",
       "      <td>Neutral</td>\n",
       "    </tr>\n",
       "    <tr>\n",
       "      <th>97</th>\n",
       "      <td>: Every waking moment is about one purpose: sa...</td>\n",
       "      <td>0.433333</td>\n",
       "      <td>0.366667</td>\n",
       "      <td>Positive</td>\n",
       "    </tr>\n",
       "    <tr>\n",
       "      <th>98</th>\n",
       "      <td>: \"The plan we put forward prioritizes the eld...</td>\n",
       "      <td>0.000000</td>\n",
       "      <td>0.000000</td>\n",
       "      <td>Neutral</td>\n",
       "    </tr>\n",
       "    <tr>\n",
       "      <th>99</th>\n",
       "      <td>: \"If authorized, tens of millions of vaccine ...</td>\n",
       "      <td>0.450000</td>\n",
       "      <td>0.450000</td>\n",
       "      <td>Positive</td>\n",
       "    </tr>\n",
       "  </tbody>\n",
       "</table>\n",
       "<p>100 rows × 4 columns</p>\n",
       "</div>"
      ],
      "text/plain": [
       "                                               Tweets  Subjectivity  Polarity  \\\n",
       "0   THE BIGGEST WINNER OF OUR NEW DEFENSE BILL IS ...      0.454545  0.213068   \n",
       "1              MOST CORRUPT ELECTION IN U.S. HISTORY!      0.750000 -0.062500   \n",
       "2   How do states and politicians confirm an elect...      0.000000  0.000000   \n",
       "3   The drug companies are going crazy putting up ...      0.655000 -0.135586   \n",
       "4   If failing Governor  would allow signature ver...      0.400000  1.000000   \n",
       "..                                                ...           ...       ...   \n",
       "95  This was not my case as has been so incorrectl...      0.817778  0.187778   \n",
       "96  NASDAQ and S&amp;P close at all-time highs. Co...      0.000000  0.000000   \n",
       "97  : Every waking moment is about one purpose: sa...      0.433333  0.366667   \n",
       "98  : \"The plan we put forward prioritizes the eld...      0.000000  0.000000   \n",
       "99  : \"If authorized, tens of millions of vaccine ...      0.450000  0.450000   \n",
       "\n",
       "    Analysis  \n",
       "0   Positive  \n",
       "1   Negative  \n",
       "2    Neutral  \n",
       "3   Negative  \n",
       "4   Positive  \n",
       "..       ...  \n",
       "95  Positive  \n",
       "96   Neutral  \n",
       "97  Positive  \n",
       "98   Neutral  \n",
       "99  Positive  \n",
       "\n",
       "[100 rows x 4 columns]"
      ]
     },
     "execution_count": 66,
     "metadata": {},
     "output_type": "execute_result"
    }
   ],
   "source": [
    "def getAnalysis(score):\n",
    "    if score < 0:\n",
    "        return 'Negative'\n",
    "    elif score == 0:\n",
    "        return 'Neutral'\n",
    "    else:\n",
    "        return 'Positive'\n",
    "    \n",
    "df['Analysis'] = df['Polarity'].apply(getAnalysis)\n",
    "df"
   ]
  },
  {
   "cell_type": "code",
   "execution_count": 67,
   "metadata": {},
   "outputs": [
    {
     "name": "stdout",
     "output_type": "stream",
     "text": [
      "1) MOST CORRUPT ELECTION IN U.S. HISTORY!\n",
      "\n",
      "2) The drug companies are going crazy putting up nasty ads against me asking to “withdraw my Favored Nation’s Executive Order”. They don’t want the U.S. to have the lowest drug prices in the world, but we now will. Big reductions coming. No other politician would do this!!!\n",
      "\n",
      "3) Why didn’t Bill Barr reveal the truth to the public, before the Election, about Hunter Biden. Joe was lying on the debate stage that nothing was wrong, or going on - Press confirmed. Big disadvantage for Republicans at the polls!\n",
      "\n",
      "4) A big disappointment! \n",
      "\n",
      "5) : One of our callers says her dead father got a text message asking him to vote in the Georgia U.S. Senate race. Her dad was…\n",
      "\n",
      "6) I WON THE ELECTION IN A LANDSLIDE, but remember, I only think in terms of legal votes, not all of the fake voters and fraud that miraculously floated in from everywhere! What a disgrace!\n",
      "\n",
      "7) : Kayleigh on Supreme Court: Yeah there’s no way to say it other than they dodged. They dodged. They hid behind procedure and they…\n",
      "\n",
      "8) “Don’t the voters have to know what the Federal prosecutor’s know. The establishment failed us. The media, congressional leaders, the Democrat Party? No wonder 74 (a pres. record) million Americans voted for Donald Trump, &amp; they still don’t believe the outcome of this election...\n",
      "\n",
      "9) If the two Senators from Georgia should lose, which would be a horrible thing for our Country, I am the only thing that stands between “Packing the Court” (last number heard, 25), and preserving it. I will not, under any circumstances, Pack the Court!\n",
      "\n",
      "10) Now it turns out that the Democrats want the Pack the Court with 26 Justices. This would be terrible, and must be stopped. Even Justice RBG was strongly opposed!\n",
      "\n",
      "11) ....The fact that our Country is being stolen. A coup is taking place in front of our eyes, and the public can’t take this anymore.” A Trump fan at Georgia Rally on   Bad!\n",
      "\n",
      "12) “People are upset, and they have a right to be. Georgia not only supported Trump in 2016, but now. This is the only State in the Deep South that went for Biden? Have they lost their minds? This is going to escalate dramatically. This is a very dangerous moment in our history....\n",
      "\n",
      "13) This case had nothing to do with me. Fake News (as usual!). \n",
      "\n"
     ]
    }
   ],
   "source": [
    "j=1\n",
    "sortedDF = df.sort_values(by=['Polarity'], ascending='False')\n",
    "for i in range(0, sortedDF.shape[0]):\n",
    "    if(sortedDF['Analysis'][i] == 'Negative'):\n",
    "        print(str(j) + ') '+sortedDF['Tweets'][i])\n",
    "        print()\n",
    "        j = j+1"
   ]
  },
  {
   "cell_type": "code",
   "execution_count": 77,
   "metadata": {},
   "outputs": [
    {
     "data": {
      "image/png": "[encoded data removed]",
      "text/plain": [
       "<Figure size 432x288 with 1 Axes>"
      ]
     },
     "metadata": {},
     "output_type": "display_data"
    }
   ],
   "source": [
    "plt.figure(figsize=(6,4))\n",
    "for i in range(0, df.shape[0]):\n",
    "    plt.scatter(df['Polarity'][i], df['Subjectivity'][i], color='Magenta')\n",
    "\n",
    "plt.title('Sentiment Analysis')\n",
    "plt.xlabel('Polarity')\n",
    "plt.ylabel('Subjectivity')\n",
    "plt.show()"
   ]
  },
  {
   "cell_type": "code",
   "execution_count": 69,
   "metadata": {},
   "outputs": [
    {
     "data": {
      "text/plain": [
       "43.0"
      ]
     },
     "execution_count": 69,
     "metadata": {},
     "output_type": "execute_result"
    }
   ],
   "source": [
    "ptweets = df[df.Analysis == 'Positive']\n",
    "ptweets = ptweets['Tweets']\n",
    "\n",
    "round( (ptweets.shape[0] / df.shape[0]) *100, 1)"
   ]
  },
  {
   "cell_type": "code",
   "execution_count": 70,
   "metadata": {},
   "outputs": [
    {
     "data": {
      "text/plain": [
       "13.0"
      ]
     },
     "execution_count": 70,
     "metadata": {},
     "output_type": "execute_result"
    }
   ],
   "source": [
    "ntweets = df[df.Analysis == 'Negative']\n",
    "ntweets = ntweets['Tweets']\n",
    "\n",
    "round( (ntweets.shape[0] / df.shape[0] *100), 1)"
   ]
  },
  {
   "cell_type": "code",
   "execution_count": 75,
   "metadata": {},
   "outputs": [
    {
     "data": {
      "image/png": "[encoded data removed]",
      "text/plain": [
       "<Figure size 432x288 with 1 Axes>"
      ]
     },
     "metadata": {},
     "output_type": "display_data"
    }
   ],
   "source": [
    "df['Analysis'].value_counts()\n",
    "\n",
    "plt.title('Sentiment Analysis')\n",
    "plt.xlabel('Sentiment')\n",
    "plt.ylabel('Counts')\n",
    "df['Analysis'].value_counts().plot(kind='line')\n",
    "plt.show()"
   ]
  }
 ],
 "metadata": {
  "kernelspec": {
   "display_name": "Python 3",
   "language": "python",
   "name": "python3"
  },
  "language_info": {
   "codemirror_mode": {
    "name": "ipython",
    "version": 3
   },
   "file_extension": ".py",
   "mimetype": "text/x-python",
   "name": "python",
   "nbconvert_exporter": "python",
   "pygments_lexer": "ipython3",
   "version": "3.8.5"
  }
 },
 "nbformat": 4,
 "nbformat_minor": 4
}
