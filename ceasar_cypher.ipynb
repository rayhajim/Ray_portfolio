{
 "cells": [
  {
   "cell_type": "code",
   "execution_count": 3,
   "metadata": {},
   "outputs": [
    {
     "name": "stdout",
     "output_type": "stream",
     "text": [
      "0 | Food is Life!\n",
      "1 | Ennc hr Khed!\n",
      "2 | Dmmb gq Jgdc!\n",
      "3 | Clla fp Ifcb!\n",
      "4 | Bkkz eo Heba!\n",
      "5 | Ajjy dn Gdaz!\n",
      "6 | Ziix cm Fczy!\n",
      "7 | Yhhw bl Ebyx!\n",
      "8 | Xggv ak Daxw!\n",
      "9 | Wffu zj Czwv!\n",
      "10 | Veet yi Byvu!\n",
      "11 | Udds xh Axut!\n",
      "12 | Tccr wg Zwts!\n",
      "13 | Sbbq vf Yvsr!\n",
      "14 | Raap ue Xurq!\n",
      "15 | Qzzo td Wtqp!\n",
      "16 | Pyyn sc Vspo!\n",
      "17 | Oxxm rb Uron!\n",
      "18 | Nwwl qa Tqnm!\n",
      "19 | Mvvk pz Spml!\n",
      "20 | Luuj oy Rolk!\n",
      "21 | Ktti nx Qnkj!\n",
      "22 | Jssh mw Pmji!\n",
      "23 | Irrg lv Olih!\n",
      "24 | Hqqf ku Nkhg!\n",
      "25 | Gppe jt Mjgf!\n"
     ]
    }
   ],
   "source": [
    "import string\n",
    "import collections\n",
    "\n",
    "def caesar(rotate_string, number_to_rotate_by):\n",
    "    \n",
    "    upper = collections.deque(string.ascii_uppercase)\n",
    "    lower = collections.deque(string.ascii_lowercase)\n",
    "    \n",
    "    upper.rotate(number_to_rotate_by)\n",
    "    lower.rotate(number_to_rotate_by)\n",
    "\n",
    "    upper = ''.join(list(upper))\n",
    "    lower = ''.join(list(lower))\n",
    "\n",
    "#    print(upper, lower)\n",
    "#    caesar('',0)\n",
    "    return rotate_string.translate(str.maketrans(string.ascii_uppercase, upper)).translate(str.maketrans(string.ascii_lowercase, lower))\n",
    "\n",
    "#    caesar(\"Food is Life!,0\")\n",
    "\n",
    "our_string = \"Food is Life!\"\n",
    "\n",
    "for i in range(len(string.ascii_uppercase)):\n",
    "    print (i, \"|\", caesar(our_string,i))"
   ]
  },
  {
   "cell_type": "code",
   "execution_count": null,
   "metadata": {},
   "outputs": [],
   "source": []
  }
 ],
 "metadata": {
  "kernelspec": {
   "display_name": "Python 3",
   "language": "python",
   "name": "python3"
  },
  "language_info": {
   "codemirror_mode": {
    "name": "ipython",
    "version": 3
   },
   "file_extension": ".py",
   "mimetype": "text/x-python",
   "name": "python",
   "nbconvert_exporter": "python",
   "pygments_lexer": "ipython3",
   "version": "3.8.5"
  }
 },
 "nbformat": 4,
 "nbformat_minor": 4
}
